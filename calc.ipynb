{
 "cells": [
  {
   "cell_type": "code",
   "execution_count": null,
   "id": "3ad03901",
   "metadata": {},
   "outputs": [],
   "source": [
    "def compute(expression):\n",
    "    num0, operator, num1 = expression.split(' ')\n",
    "    num0, num1 = int(num0), int(num1)\n",
    "    if operator == '+':\n",
    "        return num0 + num1\n",
    "    elif operator == '-':\n",
    "        return num0 - num1\n",
<<<<<<< HEAD
    "     elif operator == '*':\n",
=======
    "    elif operator == '*':\n",
>>>>>>> add-multiplication
    "        return num0 * num1\n",
    "    else:\n",
    "        print('unknown operator!')\n",
    "        return None\n",
    "    \n",
    "   "
   ]
  }
 ],
 "metadata": {
  "kernelspec": {
   "display_name": "Python 3 (ipykernel)",
   "language": "python",
   "name": "python3"
  },
  "language_info": {
   "codemirror_mode": {
    "name": "ipython",
    "version": 3
   },
   "file_extension": ".py",
   "mimetype": "text/x-python",
   "name": "python",
   "nbconvert_exporter": "python",
   "pygments_lexer": "ipython3",
   "version": "3.9.12"
  }
 },
 "nbformat": 4,
 "nbformat_minor": 5
}
