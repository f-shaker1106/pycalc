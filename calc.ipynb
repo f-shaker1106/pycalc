{
 "cells": [
  {
   "cell_type": "code",
   "execution_count": null,
   "id": "2b578ec2",
   "metadata": {},
   "outputs": [],
   "source": [
    "def compute(expression):\n",
    "    values = expression.split(' ')\n",
    "    num0 = int(values[0])\n",
    "    operator = values[1]\n",
    "    num1 = int(values[2])\n",
    "    if operator == '+':\n",
    "        return num0 + num1\n",
    "    else:\n",
    "        print('unknown operator!')\n",
    "        return None"
   ]
  }
 ],
 "metadata": {
  "kernelspec": {
   "display_name": "Python 3 (ipykernel)",
   "language": "python",
   "name": "python3"
  },
  "language_info": {
   "codemirror_mode": {
    "name": "ipython",
    "version": 3
   },
   "file_extension": ".py",
   "mimetype": "text/x-python",
   "name": "python",
   "nbconvert_exporter": "python",
   "pygments_lexer": "ipython3",
   "version": "3.9.12"
  }
 },
 "nbformat": 4,
 "nbformat_minor": 5
}
